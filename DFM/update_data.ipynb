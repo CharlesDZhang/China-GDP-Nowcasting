{
 "cells": [
  {
   "cell_type": "code",
   "execution_count": 1,
   "metadata": {},
   "outputs": [
    {
     "name": "stdout",
     "output_type": "stream",
     "text": [
      "Welcome to use Wind Quant API for Python (WindPy)!\n",
      "\n",
      "COPYRIGHT (C) 2020 WIND INFORMATION CO., LTD. ALL RIGHTS RESERVED.\n",
      "IN NO CIRCUMSTANCE SHALL WIND BE RESPONSIBLE FOR ANY DAMAGES OR LOSSES CAUSED BY USING WIND QUANT API FOR Python.\n"
     ]
    },
    {
     "data": {
      "text/plain": [
       ".ErrorCode=0\n",
       ".Data=[OK!]"
      ]
     },
     "execution_count": 1,
     "metadata": {},
     "output_type": "execute_result"
    }
   ],
   "source": [
    "import numpy as np\n",
    "import pandas as pd\n",
    "from WindPy import *  \n",
    "w.start()\n"
   ]
  },
  {
   "cell_type": "code",
   "execution_count": 113,
   "metadata": {},
   "outputs": [
    {
     "name": "stderr",
     "output_type": "stream",
     "text": [
      "C:\\Users\\Dongshuo ZHANG\\AppData\\Local\\Temp\\ipykernel_29216\\991632625.py:13: UserWarning: Pandas requires version '1.4.3' or newer of 'xlsxwriter' (version '1.3.8' currently installed).\n",
      "  writer = pd.ExcelWriter('data_month.xlsx')\n",
      "C:\\Users\\Dongshuo ZHANG\\AppData\\Local\\Temp\\ipykernel_29216\\991632625.py:16: FutureWarning: save is not part of the public API, usage can give unexpected results and will be removed in a future version\n",
      "  writer.save()\n"
     ]
    }
   ],
   "source": [
    "month_dict = pd.read_excel('data_month.xlsx', sheet_name='Dict')\n",
    "month_data = pd.read_excel('data_month.xlsx', sheet_name='Data', index_col= 0 )\n",
    "\n",
    "temp_month_data = w.edb(','.join(month_dict['ID']), month_data.index[-3],datetime.date(datetime.now()),   usedf=True )[1]\n",
    "\n",
    "code_dict = dict(zip(month_dict['ID'], month_dict['Code']))\n",
    "temp_month_data = temp_month_data.rename(columns = code_dict)\n",
    "temp_month_data.index = pd.to_datetime(temp_month_data.index)\n",
    "month_data = pd.concat([month_data, temp_month_data])\n",
    "duplicated_index = month_data.index.duplicated(keep='last')\n",
    "month_data = month_data.loc[~duplicated_index]\n",
    "\n",
    "writer = pd.ExcelWriter('data_month.xlsx')\n",
    "month_dict.to_excel(writer, 'Dict', index=False)\n",
    "month_data.to_excel(writer, 'Data')\n",
    "writer.save()\n",
    "\n",
    "month_dict = pd.read_excel('data_month.xlsx', sheet_name='Dict')\n",
    "month_data = pd.read_excel('data_month.xlsx', sheet_name='Data', index_col= 0 )\n"
   ]
  },
  {
   "cell_type": "code",
   "execution_count": 116,
   "metadata": {},
   "outputs": [
    {
     "name": "stderr",
     "output_type": "stream",
     "text": [
      "C:\\Users\\Dongshuo ZHANG\\AppData\\Local\\Temp\\ipykernel_29216\\4047137522.py:13: UserWarning: Pandas requires version '1.4.3' or newer of 'xlsxwriter' (version '1.3.8' currently installed).\n",
      "  writer = pd.ExcelWriter('data_daily.xlsx')\n",
      "C:\\Users\\Dongshuo ZHANG\\AppData\\Local\\Temp\\ipykernel_29216\\4047137522.py:16: FutureWarning: save is not part of the public API, usage can give unexpected results and will be removed in a future version\n",
      "  writer.save()\n"
     ]
    }
   ],
   "source": [
    "daily_dict = pd.read_excel('data_daily.xlsx', sheet_name='Dict')\n",
    "daily_data = pd.read_excel('data_daily.xlsx', sheet_name='Data', index_col= 0 )\n",
    "\n",
    "temp_daily_data = w.edb(','.join(daily_dict['ID']), daily_data.index[-10],datetime.date(datetime.now()),   usedf=True )[1]\n",
    "\n",
    "code_dict = dict(zip(daily_dict['ID'], daily_dict['Code']))\n",
    "temp_daily_data = temp_daily_data.rename(columns = code_dict)\n",
    "temp_daily_data.index = pd.to_datetime(temp_daily_data.index)\n",
    "daily_data = pd.concat([daily_data, temp_daily_data])\n",
    "duplicated_index = daily_data.index.duplicated(keep='last')\n",
    "daily_data = daily_data.loc[~duplicated_index]\n",
    "\n",
    "writer = pd.ExcelWriter('data_daily.xlsx')\n",
    "daily_dict.to_excel(writer, 'Dict', index=False)\n",
    "daily_data.to_excel(writer, 'Data')\n",
    "writer.save()\n",
    "\n",
    "daily_dict = pd.read_excel('data_daily.xlsx', sheet_name='Dict')\n",
    "daily_data = pd.read_excel('data_daily.xlsx', sheet_name='Data', index_col= 0 )\n"
   ]
  }
 ],
 "metadata": {
  "kernelspec": {
   "display_name": "base",
   "language": "python",
   "name": "python3"
  },
  "language_info": {
   "codemirror_mode": {
    "name": "ipython",
    "version": 3
   },
   "file_extension": ".py",
   "mimetype": "text/x-python",
   "name": "python",
   "nbconvert_exporter": "python",
   "pygments_lexer": "ipython3",
   "version": "3.8.8"
  },
  "orig_nbformat": 4,
  "vscode": {
   "interpreter": {
    "hash": "49cb93f377a7abe7414b7b0f21fb3017538004a126cf690fb524202736b7fb92"
   }
  }
 },
 "nbformat": 4,
 "nbformat_minor": 2
}
